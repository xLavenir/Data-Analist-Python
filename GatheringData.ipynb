{
 "cells": [
  {
   "cell_type": "markdown",
   "id": "f0fbc025",
   "metadata": {},
   "source": [
    "# MEMBACA FILE HTML\n",
    "\n",
    "Pandas Menyediakan fungsi read_html(link/url)\n",
    "\n",
    "CONTOH: \n"
   ]
  },
  {
   "cell_type": "code",
   "execution_count": 10,
   "id": "9d1790f7",
   "metadata": {},
   "outputs": [
    {
     "name": "stdout",
     "output_type": "stream",
     "text": [
      "                         Bank NameBank       CityCity StateSt  CertCert  \\\n",
      "0                        Citizens Bank       Sac City      IA      8758   \n",
      "1             Heartland Tri-State Bank        Elkhart      KS     25851   \n",
      "2                  First Republic Bank  San Francisco      CA     59017   \n",
      "3                       Signature Bank       New York      NY     57053   \n",
      "4                  Silicon Valley Bank    Santa Clara      CA     24735   \n",
      "..                                 ...            ...     ...       ...   \n",
      "563                 Superior Bank, FSB       Hinsdale      IL     32646   \n",
      "564                Malta National Bank          Malta      OH      6629   \n",
      "565    First Alliance Bank & Trust Co.     Manchester      NH     34264   \n",
      "566  National State Bank of Metropolis     Metropolis      IL      3815   \n",
      "567                   Bank of Honolulu       Honolulu      HI     21029   \n",
      "\n",
      "                 Acquiring InstitutionAI Closing DateClosing  FundFund  \n",
      "0              Iowa Trust & Savings Bank    November 3, 2023     10545  \n",
      "1                 Dream First Bank, N.A.       July 28, 2023     10544  \n",
      "2              JPMorgan Chase Bank, N.A.         May 1, 2023     10543  \n",
      "3                    Flagstar Bank, N.A.      March 12, 2023     10540  \n",
      "4    First–Citizens Bank & Trust Company      March 10, 2023     10539  \n",
      "..                                   ...                 ...       ...  \n",
      "563                Superior Federal, FSB       July 27, 2001      6004  \n",
      "564                    North Valley Bank         May 3, 2001      4648  \n",
      "565  Southern New Hampshire Bank & Trust    February 2, 2001      4647  \n",
      "566              Banterra Bank of Marion   December 14, 2000      4646  \n",
      "567                   Bank of the Orient    October 13, 2000      4645  \n",
      "\n",
      "[568 rows x 7 columns]\n"
     ]
    }
   ],
   "source": [
    "import pandas as pd\n",
    "\n",
    "url = \"https://www.fdic.gov/resources/resolutions/bank-failures/failed-bank-list\"\n",
    "\n",
    "df = pd.read_html(url)[0]\n",
    "print(df)"
   ]
  },
  {
   "cell_type": "markdown",
   "id": "f7bd6a90",
   "metadata": {},
   "source": [
    "# MEMBACA FILE CSV\n",
    "\n",
    "Untuk membaca file CSV pandas menyedikan fungsi read_csv\n",
    "\n",
    "Contoh : "
   ]
  },
  {
   "cell_type": "code",
   "execution_count": null,
   "id": "ccb6724d",
   "metadata": {},
   "outputs": [],
   "source": [
    "import pandas as pd\n",
    "\n",
    "df = pd.read_csv(\"data.csv\", delimiter=\",\")"
   ]
  },
  {
   "cell_type": "markdown",
   "id": "f4a2ed87",
   "metadata": {},
   "source": [
    "# MEMBACA FILE XLSX dan XLS\n",
    "\n",
    "Untuk membaca file excel atau spreadsheet, pandas menyediakan fungsi read_excel()\n",
    "\n",
    "Contoh:\n"
   ]
  },
  {
   "cell_type": "code",
   "execution_count": null,
   "id": "2fdf7e52",
   "metadata": {},
   "outputs": [],
   "source": [
    "import pandas as pd\n",
    "\n",
    "df= pd.read_excel(\"data.xlxs\", sheet_name = \"Sheet1\")"
   ]
  },
  {
   "cell_type": "markdown",
   "id": "4cb97087",
   "metadata": {},
   "source": [
    "# MEMBACA FILE JSON\n",
    "\n",
    "Untuk membaca file json, pandas menyediakan fungsi read_json()\n",
    "\n",
    "Contoh :"
   ]
  },
  {
   "cell_type": "code",
   "execution_count": null,
   "id": "86549ef5",
   "metadata": {},
   "outputs": [],
   "source": [
    "import pandas as pd\n",
    "\n",
    "df = pd.read_json(json_file.js)"
   ]
  },
  {
   "cell_type": "markdown",
   "id": "dbcc8cd7",
   "metadata": {},
   "source": [
    "# MEMBACA FILE XML\n",
    "\n",
    "Untuk membaca file XML, pandas menyediakan fungsi read_xml()\n",
    "\n",
    "Contoh : "
   ]
  },
  {
   "cell_type": "code",
   "execution_count": 2,
   "id": "1bd6dd7a",
   "metadata": {},
   "outputs": [
    {
     "name": "stdout",
     "output_type": "stream",
     "text": [
      "   category              title                  author  year  price      cover\n",
      "0   cooking   Everyday Italian     Giada De Laurentiis  2005  30.00       None\n",
      "1  children       Harry Potter            J K. Rowling  2005  29.99       None\n",
      "2       web  XQuery Kick Start  Vaidyanathan Nagarajan  2003  49.99       None\n",
      "3       web       Learning XML             Erik T. Ray  2003  39.95  paperback\n"
     ]
    }
   ],
   "source": [
    "import pandas as pd\n",
    "\n",
    "df = pd.read_xml(\"https://www.w3schools.com/xml/books.xml\")\n",
    "print(df)"
   ]
  },
  {
   "cell_type": "markdown",
   "id": "79b7e229",
   "metadata": {},
   "source": [
    "# MEMBACA FILE SQL\n",
    "\n",
    "Untuk membaca file pada SQL, pandas menyediakan 3 fungsi yaitu : \n",
    "\n",
    "1. read_sql_table()untuk membaca SQL database table dan mempresentasikannya ke dalam bentuk pandas DataFrame.\n",
    "\n",
    "2. read_sql_query()untuk membaca SQL query dan mempresentasikannya ke dalam bentuk pandas DataFrame.\n",
    "\n",
    "3. read_sql()untuk membaca SQL query atau table dan mempresentasikannya ke dalam bentuk pandas DataFrame."
   ]
  },
  {
   "cell_type": "markdown",
   "id": "eb173533",
   "metadata": {},
   "source": [
    "### Contoh Membaca SQL Database Table"
   ]
  },
  {
   "cell_type": "code",
   "execution_count": null,
   "id": "19e63520",
   "metadata": {},
   "outputs": [],
   "source": [
    "import pandas as pd\n",
    "import sqlalchemy as sqla \n",
    "\n",
    "db  = sqla.create_engine(\"sql://mydata.sqlite\")\n",
    "\n",
    "pd.read_sql_table(\"table_name\", db)\n",
    "\n",
    "print(db)"
   ]
  },
  {
   "cell_type": "markdown",
   "id": "965cb524",
   "metadata": {},
   "source": [
    "### Contoh Membaca SQL Query"
   ]
  },
  {
   "cell_type": "code",
   "execution_count": null,
   "id": "c6026602",
   "metadata": {},
   "outputs": [],
   "source": [
    "import pandas as pd\n",
    "import sqlalchemy as sqla\n",
    "\n",
    "db = sqla.create_engine(\"sqlite://mydata.sqlite\")\n",
    "\n",
    "pd.read_sql_query(\"SELECT * FROM table_name\", db)\n",
    "\n",
    "print(db)"
   ]
  },
  {
   "cell_type": "markdown",
   "id": "4efbc470",
   "metadata": {},
   "source": [
    "### Contoh Membaca SQL Query atau Table"
   ]
  },
  {
   "cell_type": "code",
   "execution_count": null,
   "id": "e6707399",
   "metadata": {},
   "outputs": [],
   "source": [
    "import pandas as pd\n",
    "import sqlalchemy as sqla\n",
    "\n",
    "db = sqla.create_engine(\"sqlite://mydata.sqlite\")\n",
    "\n",
    "pd.read_sql(\"SELECT * FROM table_name\", db)"
   ]
  },
  {
   "cell_type": "markdown",
   "id": "776ac2f1",
   "metadata": {},
   "source": [
    "# MENGGABUNGKAN BEBERAPA DATA MENJADI SATU DATA FRAME\n",
    "\n",
    "Pada database kita perlu untuk menghubungkan beberapa table pada data dengan\n",
    "menggunakan teknik merge atau join. Ini merupakan teknik untuk menggabungkan\n",
    "dua tabel data menggunakan primary key (PK) dan foreign key (FK).\n",
    "\n",
    "pandas menyediakan fungsi merge() untuk menggabungkan table antar 2 atau lebih\n",
    "data.\n",
    "\n",
    "# CONTOH : "
   ]
  },
  {
   "cell_type": "code",
   "execution_count": null,
   "id": "fa561645",
   "metadata": {},
   "outputs": [],
   "source": [
    "import pandas as pd\n",
    "\n",
    "product_df = pd.read_csv(\"product.csv\")\n",
    "order_df = pd.read_csv(\"order.csv\")\n",
    "\n",
    "new_order_df = pd.merge(left = product_df, right = order_df, how=\"inner\",\n",
    "                        left_on = \"product_id\", right_on = \"product_id\")"
   ]
  },
  {
   "cell_type": "markdown",
   "id": "8a31b3fd",
   "metadata": {},
   "source": [
    "Kode di atas akan menghasilkan sebuah DataFrame baru yang hanya mengambil nilai yang bersesuaian dari kedua DataFrame (product_df dan orders_df) tersebut. Proses ini dilakukan dengan menyesuaikan nilai pada kolom product_id yang berperan sebagai primary key dari product_df dan foreign key dari orders_df"
   ]
  }
 ],
 "metadata": {
  "kernelspec": {
   "display_name": "Python 3 (ipykernel)",
   "language": "python",
   "name": "python3"
  },
  "language_info": {
   "codemirror_mode": {
    "name": "ipython",
    "version": 3
   },
   "file_extension": ".py",
   "mimetype": "text/x-python",
   "name": "python",
   "nbconvert_exporter": "python",
   "pygments_lexer": "ipython3",
   "version": "3.10.5"
  }
 },
 "nbformat": 4,
 "nbformat_minor": 5
}
