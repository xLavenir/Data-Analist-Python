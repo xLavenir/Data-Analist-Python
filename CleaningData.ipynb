{
 "cells": [
  {
   "cell_type": "markdown",
   "id": "2843809b",
   "metadata": {},
   "source": [
    "# DROPPING PADA MISSING VALUE\n",
    "\n",
    "Metode pertama dan yang paling mudah dalam mengatasi missing value adalah dropping. Pada metode ini, kita akan menghapus seluruh baris atau kolom yang memiliki missing value. Untuk melakukannya, kita bisa menggunakan salah satu method dropna() yang disediakan oleh library pandas.\n",
    "\n",
    "Berikut merupakan contoh penerapan kodenya."
   ]
  },
  {
   "cell_type": "code",
   "execution_count": null,
   "id": "1d707154",
   "metadata": {},
   "outputs": [],
   "source": [
    "import pandas as pd\n",
    "\n",
    "product_df = pd.read_csv(\"product.csv\")\n",
    "\n",
    "product_df.dropna(axis=0, inplace=True)\n"
   ]
  },
  {
   "cell_type": "markdown",
   "id": "a5437c19",
   "metadata": {},
   "source": [
    "### NOTE : \n",
    "1. axis = 0 (menerima nilai 0 atau 1) adalah perintah untuk kita mendrop seluruh baris yang mengandung missing value.\n",
    "2. inplace = True menandakan kita ingin langsung menerapkan operasi tersebut kedalam DataFrame product_df"
   ]
  },
  {
   "cell_type": "markdown",
   "id": "744fd1bf",
   "metadata": {},
   "source": [
    "# IMPUTATION\n",
    "\n",
    "Metode lain yang umum digunakan untuk mengatasi missing value ialah metode imputation. Metode ini bekerja dengan cara mengisi (fill) missing value dengan nilai tertentu. Hal ini tentunya akan mencegah hilangnya informasi akibat missing value.\n",
    "\n",
    "Sebagai library andalan kita, pandas telah menyediakan sebuah method bernama fillna() untuk mengganti missing value dengan nilai tertentu"
   ]
  },
  {
   "cell_type": "code",
   "execution_count": null,
   "id": "37a381ce",
   "metadata": {},
   "outputs": [],
   "source": [
    "import pandas as pd\n",
    "\n",
    "data = pd.read_csv('employee_data.csv')\n",
    "\n",
    "data.age.fillna(value=data.age.mean(), inplace=True)"
   ]
  },
  {
   "cell_type": "markdown",
   "id": "ef83dba9",
   "metadata": {},
   "source": []
  }
 ],
 "metadata": {
  "kernelspec": {
   "display_name": "Python 3 (ipykernel)",
   "language": "python",
   "name": "python3"
  },
  "language_info": {
   "codemirror_mode": {
    "name": "ipython",
    "version": 3
   },
   "file_extension": ".py",
   "mimetype": "text/x-python",
   "name": "python",
   "nbconvert_exporter": "python",
   "pygments_lexer": "ipython3",
   "version": "3.10.5"
  }
 },
 "nbformat": 4,
 "nbformat_minor": 5
}
