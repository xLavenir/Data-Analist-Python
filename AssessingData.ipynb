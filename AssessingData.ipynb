{
 "cells": [
  {
   "cell_type": "markdown",
   "id": "31fc5581",
   "metadata": {},
   "source": [
    "# MENCARI MISSING VALUE PADA DATA\n",
    "\n",
    "Untuk menghindari data yang hilang akibat dari human error, masalah privasi, proses merging/join,dll maka perlu dilakukan pengecekan terhadap missing value, biasanya data yang hilang ini direpresentasikan sebagai NaN dalam library pandas.\n",
    "\n",
    "Pandas menyediakan fungsi untuk melakukan pengecekan missing value, dengan fungsi isna() atau isnull(). kedua lalu dipadukan dengan menggunakan fungsi sum() untuk menghitung total missing value pada setiap kolom dalam sebuah data.\n",
    "\n",
    "## Berikut Merupakan Contoh Kodenya"
   ]
  },
  {
   "cell_type": "code",
   "execution_count": null,
   "id": "5dcc928b",
   "metadata": {},
   "outputs": [],
   "source": [
    "import pandas as pd\n",
    "\n",
    "product_df = pd.read_csv(\"product.csv\")\n",
    "\n",
    "product_df.isnull().sum()"
   ]
  },
  {
   "cell_type": "markdown",
   "id": "f50dd484",
   "metadata": {},
   "source": [
    "# INVALID VALUE\n",
    "\n",
    "Untuk mendeteksi masalah seperti ini, kita membutuhkan teknik sedikit advance. Salah satu teknik yang paling sering digunakan ialah teknik filtering data menggunakan regex."
   ]
  },
  {
   "cell_type": "markdown",
   "id": "8cd75dda",
   "metadata": {},
   "source": [
    "# DUPLICATE DATA\n",
    "\n",
    "Untuk mengidentifikasi apakah ada data duplicate atau tidak pada data frame, pandas menyediakan fungsi untuk mendeteksi hal tersbut, kita dapat menggunakan fungsi duplicated()\n",
    "\n",
    "## Contoh : "
   ]
  },
  {
   "cell_type": "code",
   "execution_count": 3,
   "id": "5a016c23",
   "metadata": {},
   "outputs": [
    {
     "data": {
      "text/plain": [
       "0"
      ]
     },
     "execution_count": 3,
     "metadata": {},
     "output_type": "execute_result"
    }
   ],
   "source": [
    "import pandas as pd\n",
    "\n",
    "url = \"https://www.fdic.gov/resources/resolutions/bank-failures/failed-bank-list\"\n",
    "\n",
    "df = pd.read_html(url)[0]\n",
    "\n",
    "df.duplicated().sum()"
   ]
  },
  {
   "cell_type": "markdown",
   "id": "7eee4951",
   "metadata": {},
   "source": [
    "# INACCURATE VALUE\n",
    "\n",
    "Inaccurate value merupakan masalah yang muncul ketika nilai dalam sebuah data tidak sesuai dengan hasil observasi. Masalah ini umumnya muncul karena adanya human error atau sistem error.\n"
   ]
  },
  {
   "cell_type": "markdown",
   "id": "0c9ecffa",
   "metadata": {},
   "source": [
    "# INCONSISTENT VALUE\n",
    "\n",
    "Inconsistent value adalah masalah yang muncul ketika sebuah data memiliki nilai yang tidak konsisten baik dari segi satuan maupun ketentuan penilaian. Inkonsistensi ini umumnya muncul karena adanya perbedaan standar dalam proses pengumpulan nilai."
   ]
  },
  {
   "cell_type": "markdown",
   "id": "0879dc58",
   "metadata": {},
   "source": [
    "# OUTLINER\n",
    "\n",
    "Outlier atau dalam bahasa indonesia disebut pencilan merupakan titik data yang berada sangat jauh dari titik data yang lain dalam sebuah dataset. Nilai yang sangat jauh ini tentunya akan berdampak terhadap beberapa parameter statistik yang digunakan untuk menganalisis data, seperti nilai mean dan standard deviation.\n",
    "\n",
    "Terdapat beberapa metode yang dapat digunakan untuk mengidentifikasi outlier dalam sebuah dataset. Metode yang paling sering digunakan ialah IQR method.\n",
    "\n",
    "IQR method merupakan metode penentuan outlier berdasarkan nilai interquartile range (IQR). Ia mengidentifikasi outlier dengan cara membuat nilai cut-off sebagai faktor k (Umumnya kita menggunakan nilai 1.5 s/d 3) dari nilai IQR. Cut-off tersebut selanjutnya akan digunakan untuk menghitung nilai ambang batas (boundary values). Nilai tersebut dibagi menjadi dua yaitu ambang batas minimum dan maksimum. Semua titik data lebih kecil dari ambang batas minimum atau lebih besar dari ambang batas maksimum akan dianggap sebagai outlier.\n",
    "\n",
    "## Contoh code untuk mengidentifikasi outliner menggunakan IQR methode"
   ]
  },
  {
   "cell_type": "code",
   "execution_count": null,
   "id": "b690b525",
   "metadata": {},
   "outputs": [],
   "source": [
    "import numpy as np\n",
    " \n",
    "q25, q75 = np.percentile(data, 25), np.percentile(data, 75)\n",
    "iqr = q75 - q25\n",
    "cut_off = iqr * 1.5\n",
    "minimum, maximum = q25 - cut_off, q75 + cut_off\n",
    " \n",
    "outliers = [x for x in data if x < minimum or x > maximum]"
   ]
  }
 ],
 "metadata": {
  "kernelspec": {
   "display_name": "Python 3 (ipykernel)",
   "language": "python",
   "name": "python3"
  },
  "language_info": {
   "codemirror_mode": {
    "name": "ipython",
    "version": 3
   },
   "file_extension": ".py",
   "mimetype": "text/x-python",
   "name": "python",
   "nbconvert_exporter": "python",
   "pygments_lexer": "ipython3",
   "version": "3.10.5"
  }
 },
 "nbformat": 4,
 "nbformat_minor": 5
}
